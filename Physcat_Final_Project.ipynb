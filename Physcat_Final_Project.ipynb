{
 "cells": [
  {
   "cell_type": "code",
   "execution_count": 1,
   "metadata": {},
   "outputs": [],
   "source": [
    "import numpy as np\n",
    "import matplotlib.pyplot as plt\n",
    "\n",
    "def multibody_solver_1d(mass, force, initial_pos, initial_speed, dt=0.1,time=100):\n",
    "    position = []\n",
    "    velocity = []\n",
    "    for i in range(len(mass)):\n",
    "        position.append([initial_pos[i]])\n",
    "        velocity.append([initial_speed[i]])\n",
    "    for i in range(int(time / dt) - 1):\n",
    "        pos = []\n",
    "        vel = []\n",
    "        for j in range(len(mass)):\n",
    "            pos.append(position[j][i])\n",
    "            vel.append(velocity[j][i])\n",
    "        for k in range(len(mass)):\n",
    "            a = force[k](pos, vel, mass, i * dt) / mass[k]\n",
    "            velocity[k].append(vel[k] + a * dt)\n",
    "            position[j].append(pos[j] + velocity[j][i + 1] * dt)   \n",
    "                \n",
    "    return position, velocity"
   ]
  },
  {
   "cell_type": "code",
   "execution_count": 10,
   "metadata": {},
   "outputs": [],
   "source": [
    "def multibody_solver_2d(mass, force, initial_pos, initial_speed, dt=0.1,time=100):\n",
    "    position = []\n",
    "    velocity = []\n",
    "    for i in range(len(mass)):\n",
    "        position.append([initial_pos[i]])\n",
    "        velocity.append([initial_speed[i]])\n",
    "    for i in range(int(time/dt) - 1):\n",
    "        pos = []\n",
    "        vel = []\n",
    "        for j in range(len(mass)):\n",
    "            pos.append(position[j][i])\n",
    "            vel.append(velocity[j][i])\n",
    "        for j in range(len(mass)):\n",
    "            ax,ay = force[j](pos,vel,mass)\n",
    "            ax = ax/mass[j]\n",
    "            ay = ay/mass[j]\n",
    "            velocity[j].append([vel[j][0] + ax*dt,vel[j][1] + ay*dt])\n",
    "            position[j].append([pos[j][0] + velocity[j][i+1][0]*dt,pos[j][1] + velocity[j][i+1][1]*dt])\n",
    "    return position, velocity"
   ]
  },
  {
   "cell_type": "code",
   "execution_count": 3,
   "metadata": {},
   "outputs": [],
   "source": [
    "def gravity(mass, initial_position, initial_velocity, dt=0.01, total_time=100):\n",
    "    def force1(position, velocty, mass):\n",
    "        f = -mass[0] * mass[1] / ((position[0][0] - position[1][0]) * (position[0][0] - position[1][0]) + (\n",
    "                    position[0][1] - position[1][1]) * (position[0][1] - position[1][1]))\n",
    "        theta = np.arctan2(position[0][1] - position[1][1], position[0][0] - position[1][0])\n",
    "        return f * np.cos(theta), f * np.sin(theta)\n",
    "\n",
    "    def force2(position, velocity, mass):\n",
    "        f = -mass[0] * mass[1] / ((position[0][0] - position[1][0]) * (position[0][0] - position[1][0]) + (\n",
    "                    position[0][1] - position[1][1]) * (position[0][1] - position[1][1]))\n",
    "        theta = np.arctan2(position[1][1] - position[0][1], position[1][0] - position[0][0])\n",
    "        return f * np.cos(theta), f * np.sin(theta)\n",
    "\n",
    "    force = [force1, force2]\n",
    "    position, velocity = coupled_equation_solver_2D(force, mass, initial_position, initial_velocity, dt, total_time)\n",
    "    x1 = []\n",
    "    x2 = []\n",
    "    y1 = []\n",
    "    y2 = []\n",
    "    for i in range(len(position[0])):\n",
    "        x1.append(position[0][i][0])\n",
    "        x2.append(position[1][i][0])\n",
    "        y1.append(position[0][i][1])\n",
    "        y2.append(position[1][i][1])\n",
    "    coordinates = [[x1, y1], [x2, y2]]\n",
    "    return coordinates"
   ]
  },
  {
   "cell_type": "code",
   "execution_count": 12,
   "metadata": {},
   "outputs": [
    {
     "data": {
      "image/png": "[encoded data removed]",
      "text/plain": [
       "<Figure size 432x288 with 1 Axes>"
      ]
     },
     "metadata": {
      "needs_background": "light"
     },
     "output_type": "display_data"
    },
    {
     "ename": "IndexError",
     "evalue": "list index out of range",
     "output_type": "error",
     "traceback": [
      "\u001b[1;31m---------------------------------------------------------------------------\u001b[0m",
      "\u001b[1;31mIndexError\u001b[0m                                Traceback (most recent call last)",
      "\u001b[1;32m<ipython-input-12-ddbb7c49949c>\u001b[0m in \u001b[0;36m<module>\u001b[1;34m\u001b[0m\n\u001b[0;32m     58\u001b[0m \u001b[1;33m\u001b[0m\u001b[0m\n\u001b[0;32m     59\u001b[0m \u001b[1;33m\u001b[0m\u001b[0m\n\u001b[1;32m---> 60\u001b[1;33m \u001b[0mposition\u001b[0m\u001b[1;33m,\u001b[0m\u001b[0mvelocity\u001b[0m \u001b[1;33m=\u001b[0m \u001b[0mmultibody_solver_1d\u001b[0m\u001b[1;33m(\u001b[0m\u001b[0mmass\u001b[0m\u001b[1;33m,\u001b[0m\u001b[0mforce\u001b[0m\u001b[1;33m,\u001b[0m\u001b[0minitial_position\u001b[0m\u001b[1;33m,\u001b[0m\u001b[0minitial_velocity\u001b[0m\u001b[1;33m,\u001b[0m\u001b[0mdt\u001b[0m\u001b[1;33m,\u001b[0m\u001b[0mtotal_time\u001b[0m\u001b[1;33m)\u001b[0m\u001b[1;33m\u001b[0m\u001b[1;33m\u001b[0m\u001b[0m\n\u001b[0m\u001b[0;32m     61\u001b[0m \u001b[1;33m\u001b[0m\u001b[0m\n\u001b[0;32m     62\u001b[0m \u001b[0mtime\u001b[0m \u001b[1;33m=\u001b[0m \u001b[0mnp\u001b[0m\u001b[1;33m.\u001b[0m\u001b[0marange\u001b[0m\u001b[1;33m(\u001b[0m\u001b[1;36m0\u001b[0m\u001b[1;33m,\u001b[0m\u001b[0mtotal_time\u001b[0m\u001b[1;33m,\u001b[0m\u001b[0mdt\u001b[0m\u001b[1;33m)\u001b[0m\u001b[1;33m\u001b[0m\u001b[1;33m\u001b[0m\u001b[0m\n",
      "\u001b[1;32m<ipython-input-1-f8a1cf693c46>\u001b[0m in \u001b[0;36mmultibody_solver_1d\u001b[1;34m(mass, force, initial_pos, initial_speed, dt, time)\u001b[0m\n\u001b[0;32m     17\u001b[0m             \u001b[0ma\u001b[0m \u001b[1;33m=\u001b[0m \u001b[0mforce\u001b[0m\u001b[1;33m[\u001b[0m\u001b[0mk\u001b[0m\u001b[1;33m]\u001b[0m\u001b[1;33m(\u001b[0m\u001b[0mpos\u001b[0m\u001b[1;33m,\u001b[0m \u001b[0mvel\u001b[0m\u001b[1;33m,\u001b[0m \u001b[0mmass\u001b[0m\u001b[1;33m,\u001b[0m \u001b[0mi\u001b[0m \u001b[1;33m*\u001b[0m \u001b[0mdt\u001b[0m\u001b[1;33m)\u001b[0m \u001b[1;33m/\u001b[0m \u001b[0mmass\u001b[0m\u001b[1;33m[\u001b[0m\u001b[0mk\u001b[0m\u001b[1;33m]\u001b[0m\u001b[1;33m\u001b[0m\u001b[1;33m\u001b[0m\u001b[0m\n\u001b[0;32m     18\u001b[0m             \u001b[0mvelocity\u001b[0m\u001b[1;33m[\u001b[0m\u001b[0mk\u001b[0m\u001b[1;33m]\u001b[0m\u001b[1;33m.\u001b[0m\u001b[0mappend\u001b[0m\u001b[1;33m(\u001b[0m\u001b[0mvel\u001b[0m\u001b[1;33m[\u001b[0m\u001b[0mk\u001b[0m\u001b[1;33m]\u001b[0m \u001b[1;33m+\u001b[0m \u001b[0ma\u001b[0m \u001b[1;33m*\u001b[0m \u001b[0mdt\u001b[0m\u001b[1;33m)\u001b[0m\u001b[1;33m\u001b[0m\u001b[1;33m\u001b[0m\u001b[0m\n\u001b[1;32m---> 19\u001b[1;33m             \u001b[0mposition\u001b[0m\u001b[1;33m[\u001b[0m\u001b[0mj\u001b[0m\u001b[1;33m]\u001b[0m\u001b[1;33m.\u001b[0m\u001b[0mappend\u001b[0m\u001b[1;33m(\u001b[0m\u001b[0mpos\u001b[0m\u001b[1;33m[\u001b[0m\u001b[0mj\u001b[0m\u001b[1;33m]\u001b[0m \u001b[1;33m+\u001b[0m \u001b[0mvelocity\u001b[0m\u001b[1;33m[\u001b[0m\u001b[0mj\u001b[0m\u001b[1;33m]\u001b[0m\u001b[1;33m[\u001b[0m\u001b[0mi\u001b[0m \u001b[1;33m+\u001b[0m \u001b[1;36m1\u001b[0m\u001b[1;33m]\u001b[0m \u001b[1;33m*\u001b[0m \u001b[0mdt\u001b[0m\u001b[1;33m)\u001b[0m\u001b[1;33m\u001b[0m\u001b[1;33m\u001b[0m\u001b[0m\n\u001b[0m\u001b[0;32m     20\u001b[0m \u001b[1;33m\u001b[0m\u001b[0m\n\u001b[0;32m     21\u001b[0m     \u001b[1;32mreturn\u001b[0m \u001b[0mposition\u001b[0m\u001b[1;33m,\u001b[0m \u001b[0mvelocity\u001b[0m\u001b[1;33m\u001b[0m\u001b[1;33m\u001b[0m\u001b[0m\n",
      "\u001b[1;31mIndexError\u001b[0m: list index out of range"
     ]
    }
   ],
   "source": [
    "import numpy as np\n",
    "import matplotlib.pyplot as plt\n",
    "##Implementation of 2D equation solver\n",
    "\n",
    "def force1(position,velocty,mass):\n",
    "    f = -mass[0]*mass[1]/((position[0][0] - position[1][0])*(position[0][0] - position[1][0]) + (position[0][1]-position[1][1])*(position[0][1]-position[1][1]))\n",
    "    theta = np.arctan2(position[0][1]-position[1][1],position[0][0] - position[1][0])\n",
    "    return f*np.cos(theta),f*np.sin(theta)\n",
    "\n",
    "def force2(position,velocity,mass):\n",
    "    f = -mass[0]*mass[1]/((position[0][0] - position[1][0])*(position[0][0] - position[1][0]) + (position[0][1]-position[1][1])*(position[0][1]-position[1][1]))\n",
    "    theta = np.arctan2(position[1][1]-position[0][1],position[1][0] - position[0][0])\n",
    "    return f*np.cos(theta),f*np.sin(theta)\n",
    "\n",
    "force = [force1,force2]\n",
    "mass = [4,1]\n",
    "initial_position = [[0,0],[0.3,0]]\n",
    "initial_velocity = [[0,-1],[0,4]]\n",
    "dt = 0.005\n",
    "total_time = 50\n",
    "\n",
    "\n",
    "position,velocity = multibody_solver_2d(mass, force,initial_position,initial_velocity,dt,total_time)\n",
    "time = np.arange(0,total_time,dt)\n",
    "\n",
    "x1 = []\n",
    "x2 = []\n",
    "y1 = []\n",
    "y2 = []\n",
    "for i in range(len(position[0])):\n",
    "    x1.append(position[0][i][0])\n",
    "    y1.append(position[0][i][1])\n",
    "    x2.append(position[1][i][0])\n",
    "    y2.append(position[1][i][1])\n",
    "\n",
    "plt.title(\"Graph 2d\")\n",
    "plt.plot(x1,y1)\n",
    "plt.plot(x2,y2)\n",
    "plt.show()\n",
    "\n",
    "\n",
    "import numpy as np\n",
    "import matplotlib.pyplot as plt\n",
    "\n",
    "##Implementation of the 1D equation solver\n",
    "def force3(position,velocity,mass, time):\n",
    "    return  -(position[0] - np.sin(np.pi*time)) - (position[0] - position[1])\n",
    "\n",
    "def force4(position,velocity,mass, time):\n",
    "    return -position[1] - (position[1]-position[0])\n",
    "\n",
    "force = [force3,force4]\n",
    "mass = [1,1]\n",
    "initial_position = [1,0]\n",
    "initial_velocity = [0,0]\n",
    "dt = 0.01\n",
    "total_time = 100\n",
    "\n",
    "\n",
    "position,velocity = multibody_solver_1d(mass,force,initial_position,initial_velocity,dt,total_time)\n",
    "\n",
    "time = np.arange(0,total_time,dt)\n",
    "\n",
    "plt.title(\"Graph 1d\")\n",
    "plt.plot(time,position[0])\n",
    "plt.show()"
   ]
  },
  {
   "cell_type": "code",
   "execution_count": null,
   "metadata": {},
   "outputs": [],
   "source": []
  }
 ],
 "metadata": {
  "kernelspec": {
   "display_name": "Python 3",
   "language": "python",
   "name": "python3"
  },
  "language_info": {
   "codemirror_mode": {
    "name": "ipython",
    "version": 3
   },
   "file_extension": ".py",
   "mimetype": "text/x-python",
   "name": "python",
   "nbconvert_exporter": "python",
   "pygments_lexer": "ipython3",
   "version": "3.8.5"
  }
 },
 "nbformat": 4,
 "nbformat_minor": 4
}
